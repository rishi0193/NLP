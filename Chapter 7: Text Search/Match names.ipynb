{
 "cells": [
  {
   "cell_type": "markdown",
   "id": "97249042-02c4-4826-8034-9b79528ed77e",
   "metadata": {},
   "source": [
    "# Match Names \n",
    "Rishi Gandhi J022"
   ]
  },
  {
   "cell_type": "code",
   "execution_count": 1,
   "id": "16bfa9a3-a194-425f-86ff-0fe363a7b6e9",
   "metadata": {},
   "outputs": [],
   "source": [
    "import pandas as pd\n",
    "\n",
    "base_names = pd.read_csv('base_names.csv')\n",
    "name_variations = pd.read_csv('name_variations.csv')\n"
   ]
  },
  {
   "cell_type": "code",
   "execution_count": 9,
   "id": "d0db0b59-c8d9-471d-af35-03ce76d0b31e",
   "metadata": {},
   "outputs": [
    {
     "name": "stdout",
     "output_type": "stream",
     "text": [
      "   Base_Name_ID         Base_Name\n",
      "0             1        John Smith\n",
      "1             2    Jennifer Brown\n",
      "2             3  Michael O'Connor\n",
      "3             4      Maria Garcia\n",
      "4             5        Robert Lee\n",
      "      Variation Matches_With_Base_Name\n",
      "0  Thomas  King            Thomas King\n",
      "1    ThomasKing            Thomas King\n",
      "2  Maria Garcia           Maria Garcia\n",
      "3     MaryLewis             Mary Lewis\n",
      "4      Nancy W.           Nancy Wright\n"
     ]
    }
   ],
   "source": [
    "print(base_names.head())\n",
    "print(name_variations.head())"
   ]
  },
  {
   "cell_type": "markdown",
   "id": "6bd4437e-1eef-4fcc-8a5d-11808bc69a9d",
   "metadata": {},
   "source": [
    "# 1. Preprocess Names\n",
    "Normalize the names in both datasets."
   ]
  },
  {
   "cell_type": "code",
   "execution_count": 11,
   "id": "6d34ae98-7144-44f2-8c3e-3986f8ad09f4",
   "metadata": {},
   "outputs": [],
   "source": [
    "import re\n",
    "\n",
    "def preprocess_name(name):\n",
    "    name = name.lower()\n",
    "    name = ' '.join(name.split())\n",
    "    if ',' in name:\n",
    "        parts = name.split(',')\n",
    "        name = f'{parts[1].strip()} {parts[0].strip()}'\n",
    "    return name\n",
    "\n",
    "base_names['processed'] = base_names['Base_Name'].apply(preprocess_name)\n",
    "name_variations['processed'] = name_variations['Variation'].apply(preprocess_name)\n"
   ]
  },
  {
   "cell_type": "markdown",
   "id": "75fbae5a-b78d-4ec6-9c62-75dffd3c63e5",
   "metadata": {},
   "source": [
    "# 2. Fuzzy Matching\n",
    "Use fuzzy search to find the closest match for each name variation."
   ]
  },
  {
   "cell_type": "code",
   "execution_count": 13,
   "id": "262bdf74-940a-4e16-b1e9-5cf20f262e47",
   "metadata": {},
   "outputs": [
    {
     "name": "stderr",
     "output_type": "stream",
     "text": [
      "C:\\Users\\rishi\\AppData\\Roaming\\Python\\Python311\\site-packages\\fuzzywuzzy\\fuzz.py:11: UserWarning: Using slow pure-python SequenceMatcher. Install python-Levenshtein to remove this warning\n",
      "  warnings.warn('Using slow pure-python SequenceMatcher. Install python-Levenshtein to remove this warning')\n"
     ]
    }
   ],
   "source": [
    "from fuzzywuzzy import process\n",
    "\n",
    "base_name_list = base_names['processed'].tolist()\n",
    "query_name_list = name_variations['processed'].tolist()\n",
    "\n",
    "def match_names(query_names, base_names):\n",
    "    matches = []\n",
    "    for name in query_names:\n",
    "        match = process.extractOne(name, base_names)\n",
    "        matches.append(match)\n",
    "    return matches\n",
    "\n",
    "matches = match_names(query_name_list, base_name_list)\n"
   ]
  },
  {
   "cell_type": "markdown",
   "id": "a9847b8b-0352-4f1a-981c-ccc557a1be32",
   "metadata": {},
   "source": [
    "# 3. Compile Results\n",
    "Format the matches into a DataFrame and filter based on a similarity threshold."
   ]
  },
  {
   "cell_type": "code",
   "execution_count": 15,
   "id": "849de25a-6b7c-48f2-9ad9-afc0b8a43b81",
   "metadata": {},
   "outputs": [
    {
     "name": "stdout",
     "output_type": "stream",
     "text": [
      "   Original_Variation    Matched_Name  Score\n",
      "0        Thomas  King     thomas king    100\n",
      "1          ThomasKing     thomas king     95\n",
      "2        Maria Garcia    maria garcia    100\n",
      "3           MaryLewis      mary lewis     95\n",
      "4            Nancy W.    nancy wright     90\n",
      "..                ...             ...    ...\n",
      "95    Jennifer- Brown  jennifer brown     97\n",
      "96      Daniel- Scott    daniel scott     96\n",
      "97           David M.  david martinez     90\n",
      "98        Paul Allen.      paul allen    100\n",
      "99        Paul  Allen      paul allen    100\n",
      "\n",
      "[98 rows x 3 columns]\n"
     ]
    }
   ],
   "source": [
    "matches_df = pd.DataFrame(matches, columns=['Matched_Name', 'Score'])\n",
    "matches_df['Original_Variation'] = name_variations['Variation']\n",
    "matches_df = matches_df[['Original_Variation', 'Matched_Name', 'Score']]\n",
    "\n",
    "threshold = 80\n",
    "filtered_matches = matches_df[matches_df['Score'] >= threshold]\n",
    "\n",
    "print(filtered_matches)\n"
   ]
  },
  {
   "cell_type": "code",
   "execution_count": null,
   "id": "91a5c738-f646-42a7-aa30-181949d66270",
   "metadata": {},
   "outputs": [],
   "source": []
  }
 ],
 "metadata": {
  "kernelspec": {
   "display_name": "Python 3 (ipykernel)",
   "language": "python",
   "name": "python3"
  },
  "language_info": {
   "codemirror_mode": {
    "name": "ipython",
    "version": 3
   },
   "file_extension": ".py",
   "mimetype": "text/x-python",
   "name": "python",
   "nbconvert_exporter": "python",
   "pygments_lexer": "ipython3",
   "version": "3.11.9"
  }
 },
 "nbformat": 4,
 "nbformat_minor": 5
}
