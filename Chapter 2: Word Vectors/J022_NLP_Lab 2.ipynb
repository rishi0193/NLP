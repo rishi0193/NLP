{
 "cells": [
  {
   "cell_type": "markdown",
   "id": "d30aed4e-c3cd-4cff-bedb-a19dd683a66c",
   "metadata": {},
   "source": [
    "# Part 1 "
   ]
  },
  {
   "cell_type": "markdown",
   "id": "5aeb6cff-f626-4878-9389-3cc27c255786",
   "metadata": {},
   "source": [
    "Use a pretrained word2vec model (example - word2vec-google-news-300 )"
   ]
  },
  {
   "cell_type": "code",
   "execution_count": 1,
   "id": "163187fc-f1f0-4a4c-8544-104149f92e90",
   "metadata": {},
   "outputs": [],
   "source": [
    "import gensim.downloader as api\n",
    "model = api.load('word2vec-google-news-300')"
   ]
  },
  {
   "cell_type": "code",
   "execution_count": 2,
   "id": "a9dc423e-82d2-460a-b7e9-67f545fa06bf",
   "metadata": {},
   "outputs": [
    {
     "name": "stdout",
     "output_type": "stream",
     "text": [
      "Similar words to 'computer':\n",
      "  computers: 0.7979\n",
      "  laptop: 0.6640\n",
      "  laptop_computer: 0.6549\n",
      "  Computer: 0.6473\n",
      "  com_puter: 0.6082\n",
      "\n",
      "Similar words to 'science':\n",
      "  faith_Jezierski: 0.6965\n",
      "  sciences: 0.6821\n",
      "  biology: 0.6776\n",
      "  scientific: 0.6535\n",
      "  mathematics: 0.6301\n",
      "\n",
      "Similar words to 'data':\n",
      "  Data: 0.7262\n",
      "  datasets: 0.6030\n",
      "  dataset: 0.5797\n",
      "  databases: 0.5450\n",
      "  statistics: 0.5379\n",
      "\n",
      "Similar words to 'machine':\n",
      "  machines: 0.7677\n",
      "  wringer_washing: 0.5942\n",
      "  machinery: 0.5261\n",
      "  Automated_teller: 0.5226\n",
      "  roundish_pinhole_shape: 0.5103\n",
      "\n",
      "Similar words to 'learning':\n",
      "  teaching: 0.6602\n",
      "  learn: 0.6365\n",
      "  Learning: 0.6208\n",
      "  reteaching: 0.5810\n",
      "  learner_centered: 0.5739\n",
      "\n"
     ]
    }
   ],
   "source": [
    "words = ['computer', 'science', 'data', 'machine', 'learning']\n",
    "\n",
    "similar_words = {}\n",
    "for word in words:\n",
    "    similar_words[word] = model.most_similar(word, topn=5)\n",
    "\n",
    "for word, similarities in similar_words.items():\n",
    "    print(f\"Similar words to '{word}':\")\n",
    "    for similar_word, similarity in similarities:\n",
    "        print(f\"  {similar_word}: {similarity:.4f}\")\n",
    "    print()"
   ]
  },
  {
   "cell_type": "code",
   "execution_count": 3,
   "id": "07163181-43ce-4c75-a14e-b7fc2bc3da3f",
   "metadata": {},
   "outputs": [
    {
     "name": "stdout",
     "output_type": "stream",
     "text": [
      "Analogy: king - man + woman\n",
      "Expected: queen\n",
      "Predicted words and similarity indices:\n",
      "  queen: 0.7118\n",
      "  monarch: 0.6190\n",
      "  princess: 0.5902\n",
      "  crown_prince: 0.5499\n",
      "  prince: 0.5377\n",
      "\n",
      "\n",
      "Analogy: country - city + paris\n",
      "Expected: france\n",
      "Predicted words and similarity indices:\n",
      "  nigerian: 0.4904\n",
      "  france: 0.4834\n",
      "  europe: 0.4742\n",
      "  africa: 0.4706\n",
      "  naija: 0.4699\n",
      "\n",
      "\n",
      "Analogy: brother - boy + girl\n",
      "Expected: sister\n",
      "Predicted words and similarity indices:\n",
      "  sister: 0.8177\n",
      "  cousin: 0.7467\n",
      "  daughter: 0.7308\n",
      "  niece: 0.7066\n",
      "  son: 0.7011\n",
      "\n",
      "\n",
      "Analogy: doctor - hospital + school\n",
      "Expected: teacher\n",
      "Predicted words and similarity indices:\n",
      "  guidance_counselor: 0.5970\n",
      "  teacher: 0.5755\n",
      "  eighth_grade: 0.5226\n",
      "  schoolers: 0.5168\n",
      "  elementary: 0.5086\n",
      "\n",
      "\n"
     ]
    }
   ],
   "source": [
    "new_analogies = [\n",
    "    (\"king\", \"man\", \"woman\", \"queen\"),\n",
    "    (\"country\", \"city\", \"paris\", \"france\"),\n",
    "    (\"brother\", \"boy\", \"girl\", \"sister\"),\n",
    "    (\"doctor\", \"hospital\", \"school\", \"teacher\")\n",
    "]\n",
    "\n",
    "new_results = {}\n",
    "for analogy in new_analogies:\n",
    "    a, b, c, expected = analogy\n",
    "    results = model.most_similar(positive=[a, c], negative=[b], topn=5)\n",
    "    new_results[f\"{a} - {b} + {c}\"] = {\"predicted\": results, \"expected\": expected}\n",
    "\n",
    "for analogy, result in new_results.items():\n",
    "    print(f\"Analogy: {analogy}\")\n",
    "    print(f\"Expected: {result['expected']}\")\n",
    "    print(\"Predicted words and similarity indices:\")\n",
    "    for word, similarity in result[\"predicted\"]:\n",
    "        print(f\"  {word}: {similarity:.4f}\")\n",
    "    print(\"\\n\")"
   ]
  },
  {
   "cell_type": "markdown",
   "id": "f5d4a609-7965-4e67-b76b-c5d1ae919e72",
   "metadata": {},
   "source": [
    "# Part 2"
   ]
  },
  {
   "cell_type": "markdown",
   "id": "0f87348d-3960-453e-bb45-edbf9572dd7b",
   "metadata": {},
   "source": [
    "1. Perform text EDA"
   ]
  },
  {
   "cell_type": "code",
   "execution_count": 4,
   "id": "68c54075-4723-43a6-b0ef-cb0d3e01db2b",
   "metadata": {},
   "outputs": [
    {
     "name": "stdout",
     "output_type": "stream",
     "text": [
      "<class 'pandas.core.frame.DataFrame'>\n",
      "RangeIndex: 50000 entries, 0 to 49999\n",
      "Data columns (total 2 columns):\n",
      " #   Column     Non-Null Count  Dtype \n",
      "---  ------     --------------  ----- \n",
      " 0   review     50000 non-null  object\n",
      " 1   sentiment  50000 non-null  object\n",
      "dtypes: object(2)\n",
      "memory usage: 781.4+ KB\n",
      "None\n",
      "                                                   review sentiment\n",
      "count                                               50000     50000\n",
      "unique                                              49582         2\n",
      "top     Loved today's show!!! It was a variety and not...  positive\n",
      "freq                                                    5     25000\n"
     ]
    }
   ],
   "source": [
    "import pandas as pd\n",
    "import matplotlib.pyplot as plt\n",
    "import seaborn as sns\n",
    "\n",
    "df = pd.read_csv('IMDB Dataset.csv')\n",
    "\n",
    "print(df.info())\n",
    "print(df.describe())"
   ]
  },
  {
   "cell_type": "code",
   "execution_count": 5,
   "id": "79fa9d41-2c01-4b70-862e-ebdf7d748dbc",
   "metadata": {},
   "outputs": [
    {
     "name": "stderr",
     "output_type": "stream",
     "text": [
      "C:\\ProgramData\\anaconda3\\Lib\\site-packages\\seaborn\\_oldcore.py:1119: FutureWarning: use_inf_as_na option is deprecated and will be removed in a future version. Convert inf values to NaN before operating instead.\n",
      "  with pd.option_context('mode.use_inf_as_na', True):\n"
     ]
    },
    {
     "data": {
      "image/png": "[encoded data removed]",
      "text/plain": [
       "<Figure size 1000x600 with 1 Axes>"
      ]
     },
     "metadata": {},
     "output_type": "display_data"
    }
   ],
   "source": [
    "df['review_length'] = df['review'].apply(len)\n",
    "plt.figure(figsize=(10, 6))\n",
    "sns.histplot(df['review_length'], bins=50, kde=True)\n",
    "plt.title('Distribution of Review Lengths')\n",
    "plt.xlabel('Review Length')\n",
    "plt.ylabel('Frequency')\n",
    "plt.show()"
   ]
  },
  {
   "cell_type": "code",
   "execution_count": 6,
   "id": "ac2fe671-63aa-4252-b53d-97d38e82f284",
   "metadata": {},
   "outputs": [
    {
     "data": {
      "image/png": "[encoded data removed]",
      "text/plain": [
       "<Figure size 1000x600 with 1 Axes>"
      ]
     },
     "metadata": {},
     "output_type": "display_data"
    }
   ],
   "source": [
    "plt.figure(figsize=(10, 6))\n",
    "sns.countplot(x='sentiment', data=df)\n",
    "plt.title('Distribution of Sentiment Classes')\n",
    "plt.xlabel('Sentiment')\n",
    "plt.ylabel('Frequency')\n",
    "plt.show()"
   ]
  },
  {
   "cell_type": "markdown",
   "id": "86e33c60-18c5-429e-9160-3db24535cac5",
   "metadata": {},
   "source": [
    "2. Clean the text - remove noisy tokens like punctuations and stopwords"
   ]
  },
  {
   "cell_type": "code",
   "execution_count": 8,
   "id": "8fda33c2-65b6-4fe9-9064-a9eed62293d2",
   "metadata": {},
   "outputs": [
    {
     "name": "stdout",
     "output_type": "stream",
     "text": [
      "                                              review  \\\n",
      "0  One of the other reviewers has mentioned that ...   \n",
      "1  A wonderful little production. <br /><br />The...   \n",
      "2  I thought this was a wonderful way to spend ti...   \n",
      "3  Basically there's a family where a little boy ...   \n",
      "4  Petter Mattei's \"Love in the Time of Money\" is...   \n",
      "\n",
      "                                      cleaned_review  \n",
      "0  one reviewers mentioned watching 1 oz episode ...  \n",
      "1  wonderful little production br br filming tech...  \n",
      "2  thought wonderful way spend time hot summer we...  \n",
      "3  basically 's family little boy jake thinks 's ...  \n",
      "4  petter mattei 's `` love time money '' visuall...  \n"
     ]
    }
   ],
   "source": [
    "import nltk\n",
    "from nltk.corpus import stopwords\n",
    "from nltk.tokenize import word_tokenize\n",
    "import string\n",
    "\n",
    "stop_words = set(stopwords.words('english'))\n",
    "punctuations = set(string.punctuation)\n",
    "\n",
    "def clean_text(text):\n",
    "    tokens = word_tokenize(text.lower())\n",
    "    cleaned_tokens = [word for word in tokens if word not in stop_words and word not in punctuations]\n",
    "    return ' '.join(cleaned_tokens)\n",
    "\n",
    "df['cleaned_review'] = df['review'].apply(clean_text)\n",
    "\n",
    "print(df[['review', 'cleaned_review']].head())\n"
   ]
  },
  {
   "cell_type": "markdown",
   "id": "08b2a487-5f3c-47b2-9a12-cbae1e3f9d81",
   "metadata": {},
   "source": [
    "3. Train a model of your choice using a custom Skip-gram vectors"
   ]
  },
  {
   "cell_type": "code",
   "execution_count": 9,
   "id": "7a3c140e-b9d4-4b48-af7a-b0b30a03f0ff",
   "metadata": {},
   "outputs": [
    {
     "name": "stderr",
     "output_type": "stream",
     "text": [
      "C:\\ProgramData\\anaconda3\\Lib\\site-packages\\sklearn\\linear_model\\_logistic.py:458: ConvergenceWarning: lbfgs failed to converge (status=1):\n",
      "STOP: TOTAL NO. of ITERATIONS REACHED LIMIT.\n",
      "\n",
      "Increase the number of iterations (max_iter) or scale the data as shown in:\n",
      "    https://scikit-learn.org/stable/modules/preprocessing.html\n",
      "Please also refer to the documentation for alternative solver options:\n",
      "    https://scikit-learn.org/stable/modules/linear_model.html#logistic-regression\n",
      "  n_iter_i = _check_optimize_result(\n"
     ]
    },
    {
     "name": "stdout",
     "output_type": "stream",
     "text": [
      "              precision    recall  f1-score   support\n",
      "\n",
      "    negative       0.91      0.88      0.90      4961\n",
      "    positive       0.89      0.91      0.90      5039\n",
      "\n",
      "    accuracy                           0.90     10000\n",
      "   macro avg       0.90      0.90      0.90     10000\n",
      "weighted avg       0.90      0.90      0.90     10000\n",
      "\n"
     ]
    }
   ],
   "source": [
    "from gensim.models import Word2Vec\n",
    "from sklearn.model_selection import train_test_split\n",
    "from sklearn.feature_extraction.text import TfidfVectorizer\n",
    "from sklearn.linear_model import LogisticRegression\n",
    "from sklearn.pipeline import make_pipeline\n",
    "from sklearn.metrics import classification_report\n",
    "\n",
    "df['tokenized_review'] = df['cleaned_review'].apply(word_tokenize)\n",
    "\n",
    "skipgram_model = Word2Vec(sentences=df['tokenized_review'], vector_size=100, window=5, min_count=5, sg=1)\n",
    "\n",
    "X_train, X_test, y_train, y_test = train_test_split(df['cleaned_review'], df['sentiment'], test_size=0.2, random_state=42)\n",
    "\n",
    "pipeline = make_pipeline(TfidfVectorizer(), LogisticRegression())\n",
    "pipeline.fit(X_train, y_train)\n",
    "\n",
    "y_pred = pipeline.predict(X_test)\n",
    "print(classification_report(y_test, y_pred))"
   ]
  },
  {
   "cell_type": "markdown",
   "id": "410930b8-e8ae-4c4f-807e-3c51dba34702",
   "metadata": {},
   "source": [
    "4. Train a model of your choice using a custom CBoW vectors"
   ]
  },
  {
   "cell_type": "code",
   "execution_count": 10,
   "id": "99f94fd4-e38c-432e-b88d-b559be8554b4",
   "metadata": {},
   "outputs": [
    {
     "name": "stderr",
     "output_type": "stream",
     "text": [
      "C:\\ProgramData\\anaconda3\\Lib\\site-packages\\sklearn\\linear_model\\_logistic.py:458: ConvergenceWarning: lbfgs failed to converge (status=1):\n",
      "STOP: TOTAL NO. of ITERATIONS REACHED LIMIT.\n",
      "\n",
      "Increase the number of iterations (max_iter) or scale the data as shown in:\n",
      "    https://scikit-learn.org/stable/modules/preprocessing.html\n",
      "Please also refer to the documentation for alternative solver options:\n",
      "    https://scikit-learn.org/stable/modules/linear_model.html#logistic-regression\n",
      "  n_iter_i = _check_optimize_result(\n"
     ]
    },
    {
     "name": "stdout",
     "output_type": "stream",
     "text": [
      "              precision    recall  f1-score   support\n",
      "\n",
      "    negative       0.91      0.88      0.90      4961\n",
      "    positive       0.89      0.91      0.90      5039\n",
      "\n",
      "    accuracy                           0.90     10000\n",
      "   macro avg       0.90      0.90      0.90     10000\n",
      "weighted avg       0.90      0.90      0.90     10000\n",
      "\n"
     ]
    }
   ],
   "source": [
    "cbow_model = Word2Vec(sentences=df['tokenized_review'], vector_size=100, window=5, min_count=5, sg=0)\n",
    "\n",
    "pipeline = make_pipeline(TfidfVectorizer(), LogisticRegression())\n",
    "pipeline.fit(X_train, y_train)\n",
    "\n",
    "y_pred = pipeline.predict(X_test)\n",
    "print(classification_report(y_test, y_pred))"
   ]
  },
  {
   "cell_type": "markdown",
   "id": "051377a6-16c9-4f5b-afba-34a9463283d6",
   "metadata": {},
   "source": [
    "5. Train a model of your choice using any pretrained word2vec model’s vectors "
   ]
  },
  {
   "cell_type": "code",
   "execution_count": 11,
   "id": "1dbb9204-dff7-4b12-a23a-468b45839e7f",
   "metadata": {},
   "outputs": [
    {
     "name": "stderr",
     "output_type": "stream",
     "text": [
      "C:\\ProgramData\\anaconda3\\Lib\\site-packages\\sklearn\\linear_model\\_logistic.py:458: ConvergenceWarning: lbfgs failed to converge (status=1):\n",
      "STOP: TOTAL NO. of ITERATIONS REACHED LIMIT.\n",
      "\n",
      "Increase the number of iterations (max_iter) or scale the data as shown in:\n",
      "    https://scikit-learn.org/stable/modules/preprocessing.html\n",
      "Please also refer to the documentation for alternative solver options:\n",
      "    https://scikit-learn.org/stable/modules/linear_model.html#logistic-regression\n",
      "  n_iter_i = _check_optimize_result(\n"
     ]
    },
    {
     "name": "stdout",
     "output_type": "stream",
     "text": [
      "              precision    recall  f1-score   support\n",
      "\n",
      "    negative       0.85      0.85      0.85      4961\n",
      "    positive       0.85      0.85      0.85      5039\n",
      "\n",
      "    accuracy                           0.85     10000\n",
      "   macro avg       0.85      0.85      0.85     10000\n",
      "weighted avg       0.85      0.85      0.85     10000\n",
      "\n"
     ]
    }
   ],
   "source": [
    "import gensim.downloader as api\n",
    "import numpy as np\n",
    "\n",
    "pretrained_model = api.load('word2vec-google-news-300')\n",
    "\n",
    "def avg_word_vec(words, model, vector_size):\n",
    "    feature_vec = np.zeros((vector_size,), dtype=\"float32\")\n",
    "    num_words = 0\n",
    "    for word in words:\n",
    "        if word in model.key_to_index:\n",
    "            num_words += 1\n",
    "            feature_vec = np.add(feature_vec, model[word])\n",
    "    if num_words > 0:\n",
    "        feature_vec = np.divide(feature_vec, num_words)\n",
    "    return feature_vec\n",
    "\n",
    "df['vector'] = df['tokenized_review'].apply(lambda x: avg_word_vec(x, pretrained_model, 300))\n",
    "\n",
    "X_train_vec, X_test_vec, y_train, y_test = train_test_split(df['vector'].tolist(), df['sentiment'], test_size=0.2, random_state=42)\n",
    "\n",
    "log_reg = LogisticRegression()\n",
    "log_reg.fit(X_train_vec, y_train)\n",
    "y_pred = log_reg.predict(X_test_vec)\n",
    "print(classification_report(y_test, y_pred))\n"
   ]
  },
  {
   "cell_type": "markdown",
   "id": "6d6e69cb-ef7c-4d7a-a7b3-a0e8dfe0e73c",
   "metadata": {},
   "source": [
    "6. Check if you can improve the model performance for [2] and [3] by updating the vector length, window size, min count, etc."
   ]
  },
  {
   "cell_type": "code",
   "execution_count": 12,
   "id": "1b9c6790-f836-4c82-972a-e168757fe464",
   "metadata": {},
   "outputs": [
    {
     "name": "stdout",
     "output_type": "stream",
     "text": [
      "Tuned Skip-gram Model\n",
      "              precision    recall  f1-score   support\n",
      "\n",
      "    negative       0.89      0.89      0.89      4961\n",
      "    positive       0.89      0.89      0.89      5039\n",
      "\n",
      "    accuracy                           0.89     10000\n",
      "   macro avg       0.89      0.89      0.89     10000\n",
      "weighted avg       0.89      0.89      0.89     10000\n",
      "\n"
     ]
    },
    {
     "name": "stderr",
     "output_type": "stream",
     "text": [
      "C:\\ProgramData\\anaconda3\\Lib\\site-packages\\sklearn\\linear_model\\_logistic.py:458: ConvergenceWarning: lbfgs failed to converge (status=1):\n",
      "STOP: TOTAL NO. of ITERATIONS REACHED LIMIT.\n",
      "\n",
      "Increase the number of iterations (max_iter) or scale the data as shown in:\n",
      "    https://scikit-learn.org/stable/modules/preprocessing.html\n",
      "Please also refer to the documentation for alternative solver options:\n",
      "    https://scikit-learn.org/stable/modules/linear_model.html#logistic-regression\n",
      "  n_iter_i = _check_optimize_result(\n"
     ]
    },
    {
     "name": "stdout",
     "output_type": "stream",
     "text": [
      "Tuned CBoW Model\n",
      "              precision    recall  f1-score   support\n",
      "\n",
      "    negative       0.88      0.87      0.88      4961\n",
      "    positive       0.87      0.89      0.88      5039\n",
      "\n",
      "    accuracy                           0.88     10000\n",
      "   macro avg       0.88      0.88      0.88     10000\n",
      "weighted avg       0.88      0.88      0.88     10000\n",
      "\n"
     ]
    }
   ],
   "source": [
    "skipgram_model_tuned = Word2Vec(sentences=df['tokenized_review'], vector_size=150, window=10, min_count=2, sg=1)\n",
    "cbow_model_tuned = Word2Vec(sentences=df['tokenized_review'], vector_size=150, window=10, min_count=2, sg=0)\n",
    "\n",
    "def avg_word_vec(words, model, vector_size):\n",
    "    feature_vec = np.zeros((vector_size,), dtype='float32')\n",
    "    num_words = 0\n",
    "    for word in words:\n",
    "        if word in model.wv.key_to_index:\n",
    "            num_words += 1\n",
    "            feature_vec = np.add(feature_vec, model.wv[word])\n",
    "    if num_words > 0:\n",
    "        feature_vec = np.divide(feature_vec, num_words)\n",
    "    return feature_vec\n",
    "\n",
    "def get_avg_word_vectors(corpus, model, vector_size):\n",
    "    avg_word_vectors = []\n",
    "    for tokens in corpus:\n",
    "        avg_word_vectors.append(avg_word_vec(tokens, model, vector_size))\n",
    "    return avg_word_vectors\n",
    "\n",
    "X_train_sg_tuned = get_avg_word_vectors(df['tokenized_review'].iloc[X_train.index], skipgram_model_tuned, 150)\n",
    "X_test_sg_tuned = get_avg_word_vectors(df['tokenized_review'].iloc[X_test.index], skipgram_model_tuned, 150)\n",
    "\n",
    "log_reg_sg_tuned = LogisticRegression()\n",
    "log_reg_sg_tuned.fit(X_train_sg_tuned, y_train)\n",
    "y_pred_sg_tuned = log_reg_sg_tuned.predict(X_test_sg_tuned)\n",
    "print(\"Tuned Skip-gram Model\")\n",
    "print(classification_report(y_test, y_pred_sg_tuned))\n",
    "\n",
    "X_train_cbow_tuned = get_avg_word_vectors(df['tokenized_review'].iloc[X_train.index], cbow_model_tuned, 150)\n",
    "X_test_cbow_tuned = get_avg_word_vectors(df['tokenized_review'].iloc[X_test.index], cbow_model_tuned, 150)\n",
    "\n",
    "log_reg_cbow_tuned = LogisticRegression()\n",
    "log_reg_cbow_tuned.fit(X_train_cbow_tuned, y_train)\n",
    "y_pred_cbow_tuned = log_reg_cbow_tuned.predict(X_test_cbow_tuned)\n",
    "print(\"Tuned CBoW Model\")\n",
    "print(classification_report(y_test, y_pred_cbow_tuned))"
   ]
  },
  {
   "cell_type": "markdown",
   "id": "f6553c0d-41d8-455b-a2ee-4af17e7f1502",
   "metadata": {},
   "source": [
    "7. Report the metrics for all experiments in a table at the end."
   ]
  },
  {
   "cell_type": "code",
   "execution_count": 14,
   "id": "5399d199-f5e5-4350-ab0c-4339de6e4503",
   "metadata": {},
   "outputs": [
    {
     "data": {
      "text/html": [
       "<div>\n",
       "<style scoped>\n",
       "    .dataframe tbody tr th:only-of-type {\n",
       "        vertical-align: middle;\n",
       "    }\n",
       "\n",
       "    .dataframe tbody tr th {\n",
       "        vertical-align: top;\n",
       "    }\n",
       "\n",
       "    .dataframe thead th {\n",
       "        text-align: right;\n",
       "    }\n",
       "</style>\n",
       "<table border=\"1\" class=\"dataframe\">\n",
       "  <thead>\n",
       "    <tr style=\"text-align: right;\">\n",
       "      <th></th>\n",
       "      <th>Model</th>\n",
       "      <th>Precision (Negative)</th>\n",
       "      <th>Precision (Positive)</th>\n",
       "      <th>Recall (Negative)</th>\n",
       "      <th>Recall (Positive)</th>\n",
       "      <th>F1-Score (Negative)</th>\n",
       "      <th>F1-Score (Positive)</th>\n",
       "      <th>Accuracy</th>\n",
       "      <th>Support (Negative)</th>\n",
       "      <th>Support (Positive)</th>\n",
       "    </tr>\n",
       "  </thead>\n",
       "  <tbody>\n",
       "    <tr>\n",
       "      <th>0</th>\n",
       "      <td>Skip-gram</td>\n",
       "      <td>0.91</td>\n",
       "      <td>0.89</td>\n",
       "      <td>0.88</td>\n",
       "      <td>0.91</td>\n",
       "      <td>0.90</td>\n",
       "      <td>0.90</td>\n",
       "      <td>0.90</td>\n",
       "      <td>4961</td>\n",
       "      <td>5039</td>\n",
       "    </tr>\n",
       "    <tr>\n",
       "      <th>1</th>\n",
       "      <td>CBoW</td>\n",
       "      <td>0.91</td>\n",
       "      <td>0.89</td>\n",
       "      <td>0.88</td>\n",
       "      <td>0.91</td>\n",
       "      <td>0.90</td>\n",
       "      <td>0.90</td>\n",
       "      <td>0.90</td>\n",
       "      <td>4961</td>\n",
       "      <td>5039</td>\n",
       "    </tr>\n",
       "    <tr>\n",
       "      <th>2</th>\n",
       "      <td>Pretrained Word2Vec</td>\n",
       "      <td>0.85</td>\n",
       "      <td>0.85</td>\n",
       "      <td>0.85</td>\n",
       "      <td>0.85</td>\n",
       "      <td>0.85</td>\n",
       "      <td>0.85</td>\n",
       "      <td>0.85</td>\n",
       "      <td>4961</td>\n",
       "      <td>5039</td>\n",
       "    </tr>\n",
       "    <tr>\n",
       "      <th>3</th>\n",
       "      <td>Tuned Skip-gram</td>\n",
       "      <td>0.89</td>\n",
       "      <td>0.89</td>\n",
       "      <td>0.89</td>\n",
       "      <td>0.89</td>\n",
       "      <td>0.89</td>\n",
       "      <td>0.89</td>\n",
       "      <td>0.89</td>\n",
       "      <td>4961</td>\n",
       "      <td>5039</td>\n",
       "    </tr>\n",
       "    <tr>\n",
       "      <th>4</th>\n",
       "      <td>Tuned CBoW</td>\n",
       "      <td>0.88</td>\n",
       "      <td>0.87</td>\n",
       "      <td>0.87</td>\n",
       "      <td>0.89</td>\n",
       "      <td>0.88</td>\n",
       "      <td>0.88</td>\n",
       "      <td>0.88</td>\n",
       "      <td>4961</td>\n",
       "      <td>5039</td>\n",
       "    </tr>\n",
       "  </tbody>\n",
       "</table>\n",
       "</div>"
      ],
      "text/plain": [
       "                 Model  Precision (Negative)  Precision (Positive)  \\\n",
       "0            Skip-gram                  0.91                  0.89   \n",
       "1                 CBoW                  0.91                  0.89   \n",
       "2  Pretrained Word2Vec                  0.85                  0.85   \n",
       "3      Tuned Skip-gram                  0.89                  0.89   \n",
       "4           Tuned CBoW                  0.88                  0.87   \n",
       "\n",
       "   Recall (Negative)  Recall (Positive)  F1-Score (Negative)  \\\n",
       "0               0.88               0.91                 0.90   \n",
       "1               0.88               0.91                 0.90   \n",
       "2               0.85               0.85                 0.85   \n",
       "3               0.89               0.89                 0.89   \n",
       "4               0.87               0.89                 0.88   \n",
       "\n",
       "   F1-Score (Positive)  Accuracy  Support (Negative)  Support (Positive)  \n",
       "0                 0.90      0.90                4961                5039  \n",
       "1                 0.90      0.90                4961                5039  \n",
       "2                 0.85      0.85                4961                5039  \n",
       "3                 0.89      0.89                4961                5039  \n",
       "4                 0.88      0.88                4961                5039  "
      ]
     },
     "metadata": {},
     "output_type": "display_data"
    }
   ],
   "source": [
    "import pandas as pd\n",
    "\n",
    "data = {\n",
    "    'Model': ['Skip-gram', 'CBoW', 'Pretrained Word2Vec', 'Tuned Skip-gram', 'Tuned CBoW'],\n",
    "    'Precision (Negative)': [0.91, 0.91, 0.85, 0.89, 0.88],\n",
    "    'Precision (Positive)': [0.89, 0.89, 0.85, 0.89, 0.87],\n",
    "    'Recall (Negative)': [0.88, 0.88, 0.85, 0.89, 0.87],\n",
    "    'Recall (Positive)': [0.91, 0.91, 0.85, 0.89, 0.89],\n",
    "    'F1-Score (Negative)': [0.90, 0.90, 0.85, 0.89, 0.88],\n",
    "    'F1-Score (Positive)': [0.90, 0.90, 0.85, 0.89, 0.88],\n",
    "    'Accuracy': [0.90, 0.90, 0.85, 0.89, 0.88],\n",
    "    'Support (Negative)': [4961, 4961, 4961, 4961, 4961],\n",
    "    'Support (Positive)': [5039, 5039, 5039, 5039, 5039]\n",
    "}\n",
    "\n",
    "metrics_df = pd.DataFrame(data)\n",
    "\n",
    "#print(metrics_df)\n",
    "\n",
    "from IPython.display import display\n",
    "display(metrics_df)\n"
   ]
  },
  {
   "cell_type": "code",
   "execution_count": null,
   "id": "5369226c-721e-45cc-87d8-baf003bfbc67",
   "metadata": {},
   "outputs": [],
   "source": []
  }
 ],
 "metadata": {
  "kernelspec": {
   "display_name": "Python 3 (ipykernel)",
   "language": "python",
   "name": "python3"
  },
  "language_info": {
   "codemirror_mode": {
    "name": "ipython",
    "version": 3
   },
   "file_extension": ".py",
   "mimetype": "text/x-python",
   "name": "python",
   "nbconvert_exporter": "python",
   "pygments_lexer": "ipython3",
   "version": "3.11.7"
  }
 },
 "nbformat": 4,
 "nbformat_minor": 5
}
